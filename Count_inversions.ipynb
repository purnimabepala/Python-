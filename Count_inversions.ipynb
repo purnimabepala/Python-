{
  "nbformat": 4,
  "nbformat_minor": 0,
  "metadata": {
    "colab": {
      "provenance": [],
      "authorship_tag": "ABX9TyPY0YRezt+WCGvzDE/azklO",
      "include_colab_link": true
    },
    "kernelspec": {
      "name": "python3",
      "display_name": "Python 3"
    },
    "language_info": {
      "name": "python"
    }
  },
  "cells": [
    {
      "cell_type": "markdown",
      "metadata": {
        "id": "view-in-github",
        "colab_type": "text"
      },
      "source": [
        "<a href=\"https://colab.research.google.com/github/purnimabepala/Python-/blob/main/Count_inversions.ipynb\" target=\"_parent\"><img src=\"https://colab.research.google.com/assets/colab-badge.svg\" alt=\"Open In Colab\"/></a>"
      ]
    },
    {
      "cell_type": "code",
      "execution_count": 3,
      "metadata": {
        "colab": {
          "base_uri": "https://localhost:8080/"
        },
        "id": "avqoTEGBQZmT",
        "outputId": "37f25c1a-e756-451f-c212-f43d93ebeddc"
      },
      "outputs": [
        {
          "output_type": "stream",
          "name": "stdout",
          "text": [
            "5\n",
            "2 1 4 3 5 \n",
            "2\n"
          ]
        }
      ],
      "source": [
        "n=int(input())\n",
        "arr=list(map(int,input().split()))\n",
        "count=0\n",
        "for i in range(n):\n",
        "    for j in range(i+1,n):\n",
        "        if arr[i]>arr[j]:\n",
        "            count+=1\n",
        "print(count)"
      ]
    }
  ]
}