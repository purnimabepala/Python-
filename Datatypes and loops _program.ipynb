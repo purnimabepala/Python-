{
  "nbformat": 4,
  "nbformat_minor": 0,
  "metadata": {
    "colab": {
      "provenance": [],
      "authorship_tag": "ABX9TyPw4C0gK8kuhW3HGcVTmZ7B",
      "include_colab_link": true
    },
    "kernelspec": {
      "name": "python3",
      "display_name": "Python 3"
    },
    "language_info": {
      "name": "python"
    }
  },
  "cells": [
    {
      "cell_type": "markdown",
      "metadata": {
        "id": "view-in-github",
        "colab_type": "text"
      },
      "source": [
        "<a href=\"https://colab.research.google.com/github/purnimabepala/Python-/blob/main/Datatypes%20and%20loops%20_program.ipynb\" target=\"_parent\"><img src=\"https://colab.research.google.com/assets/colab-badge.svg\" alt=\"Open In Colab\"/></a>"
      ]
    },
    {
      "cell_type": "code",
      "execution_count": null,
      "metadata": {
        "colab": {
          "base_uri": "https://localhost:8080/"
        },
        "id": "BBcg39Li7Bk0",
        "outputId": "385f85ff-0995-43d8-bcd1-25bf4f140ca6"
      },
      "outputs": [
        {
          "output_type": "stream",
          "name": "stdout",
          "text": [
            "4\n"
          ]
        },
        {
          "output_type": "execute_result",
          "data": {
            "text/plain": [
              "int"
            ]
          },
          "metadata": {},
          "execution_count": 5
        }
      ],
      "source": [
        "x=4\n",
        "print(x)\n",
        "type(x)"
      ]
    },
    {
      "cell_type": "code",
      "source": [
        "r=int(input())\n",
        "for i in range(r,0,-1):\n",
        "    print(\"*\"*i)"
      ],
      "metadata": {
        "colab": {
          "base_uri": "https://localhost:8080/"
        },
        "id": "CS2A8K8KT7gZ",
        "outputId": "62bb37cf-6cb9-424f-99ba-77a1c0f40338"
      },
      "execution_count": null,
      "outputs": [
        {
          "output_type": "stream",
          "name": "stdout",
          "text": [
            "6\n",
            "******\n",
            "*****\n",
            "****\n",
            "***\n",
            "**\n",
            "*\n"
          ]
        }
      ]
    },
    {
      "cell_type": "code",
      "source": [
        "\n",
        "n = 5\n",
        "for i in range (1, n+1):\n",
        "    print(\" * \" * i)"
      ],
      "metadata": {
        "colab": {
          "base_uri": "https://localhost:8080/"
        },
        "id": "I6SS_av7Oa7i",
        "outputId": "8f3ab0d3-bb25-4ecd-cd34-3ad5038dc546"
      },
      "execution_count": null,
      "outputs": [
        {
          "output_type": "stream",
          "name": "stdout",
          "text": [
            " * \n",
            " *  * \n",
            " *  *  * \n",
            " *  *  *  * \n",
            " *  *  *  *  * \n"
          ]
        }
      ]
    },
    {
      "cell_type": "code",
      "source": [
        "n =int(input ())\n",
        "for i in range (n, 0,-1):\n",
        "    print(\" \" * (n - i) + \"*\" * (2*i-1))"
      ],
      "metadata": {
        "colab": {
          "base_uri": "https://localhost:8080/"
        },
        "id": "XTNtX1vmOjtp",
        "outputId": "0ca30f5a-a3f4-4149-9232-a36caea10d40"
      },
      "execution_count": null,
      "outputs": [
        {
          "output_type": "stream",
          "name": "stdout",
          "text": [
            "5\n",
            "*********\n",
            " *******\n",
            "  *****\n",
            "   ***\n",
            "    *\n"
          ]
        }
      ]
    },
    {
      "cell_type": "code",
      "source": [
        "n=int(input ())\n",
        "for i in range (1,n+1):\n",
        "    print (\" \"*(n-i)+'*'*(2*i-1))"
      ],
      "metadata": {
        "colab": {
          "base_uri": "https://localhost:8080/"
        },
        "id": "yYDZwcWdOnfk",
        "outputId": "67b1b965-bfba-42ae-b857-b02808fbfeec"
      },
      "execution_count": null,
      "outputs": [
        {
          "output_type": "stream",
          "name": "stdout",
          "text": [
            "6\n",
            "     *\n",
            "    ***\n",
            "   *****\n",
            "  *******\n",
            " *********\n",
            "***********\n"
          ]
        }
      ]
    },
    {
      "cell_type": "code",
      "source": [
        "for x in range(65,69):\n",
        "    for y in range(65,x+1):\n",
        "        print(chr(x),end=\" \")\n",
        "    print()"
      ],
      "metadata": {
        "colab": {
          "base_uri": "https://localhost:8080/"
        },
        "id": "cHz3WGCZOr7G",
        "outputId": "ea05edb1-13cf-4b9e-dc73-9cbc35fbda41"
      },
      "execution_count": null,
      "outputs": [
        {
          "output_type": "stream",
          "name": "stdout",
          "text": [
            "A \n",
            "B B \n",
            "C C C \n",
            "D D D D \n"
          ]
        }
      ]
    },
    {
      "cell_type": "code",
      "source": [
        "\n",
        "for x in range(1,6):\n",
        "    for y in range (1,6):\n",
        "      print(int(y),end=\"\")\n",
        "    print()"
      ],
      "metadata": {
        "colab": {
          "base_uri": "https://localhost:8080/"
        },
        "id": "DGU_y6isPaem",
        "outputId": "24bc2268-2e70-45ee-9442-cf10f805c4f0"
      },
      "execution_count": null,
      "outputs": [
        {
          "output_type": "stream",
          "name": "stdout",
          "text": [
            "12345\n",
            "12345\n",
            "12345\n",
            "12345\n",
            "12345\n"
          ]
        }
      ]
    },
    {
      "cell_type": "code",
      "source": [
        "\n",
        "n= int(input())\n",
        "for i in range(n):\n",
        "  for i in range(n):\n",
        "    print(\"*\",end=\"\")\n",
        "  print()"
      ],
      "metadata": {
        "colab": {
          "base_uri": "https://localhost:8080/"
        },
        "id": "G_1TK7ZyImrh",
        "outputId": "0cfa0d2f-895d-4a81-86eb-2126e93aac2f"
      },
      "execution_count": null,
      "outputs": [
        {
          "output_type": "stream",
          "name": "stdout",
          "text": [
            "4\n",
            "****\n",
            "****\n",
            "****\n",
            "****\n"
          ]
        }
      ]
    },
    {
      "cell_type": "code",
      "source": [
        "n=5\n",
        "for i in range(n):\n",
        "    print(\"*\",end=\"\")"
      ],
      "metadata": {
        "id": "O4ZUW_XJfA_5",
        "colab": {
          "base_uri": "https://localhost:8080/"
        },
        "outputId": "c8f53d63-6b4b-4b2a-b5a4-3fce7f206747"
      },
      "execution_count": null,
      "outputs": [
        {
          "output_type": "stream",
          "name": "stdout",
          "text": [
            "*****"
          ]
        }
      ]
    },
    {
      "cell_type": "code",
      "source": [
        "for i in range(1,5):\n",
        "  for j in range(-1,i+1):\n",
        "    print(\"*\",end=\"\")\n",
        "  print()"
      ],
      "metadata": {
        "colab": {
          "base_uri": "https://localhost:8080/"
        },
        "id": "tzuFLEeqd8vk",
        "outputId": "78a99a67-6b55-4ab0-fa74-651e74e12c22"
      },
      "execution_count": null,
      "outputs": [
        {
          "output_type": "stream",
          "name": "stdout",
          "text": [
            "***\n",
            "****\n",
            "*****\n",
            "******\n"
          ]
        }
      ]
    },
    {
      "cell_type": "code",
      "source": [
        "\n",
        "i=0\n",
        "n=int(input())\n",
        "while (i<n):\n",
        "  print(i)\n",
        "  i+=1"
      ],
      "metadata": {
        "colab": {
          "base_uri": "https://localhost:8080/"
        },
        "id": "ztHoJQvufDDT",
        "outputId": "52f25229-e944-40ad-c281-b85399418639"
      },
      "execution_count": null,
      "outputs": [
        {
          "output_type": "stream",
          "name": "stdout",
          "text": [
            "5\n",
            "0\n",
            "1\n",
            "2\n",
            "3\n",
            "4\n"
          ]
        }
      ]
    },
    {
      "cell_type": "code",
      "source": [
        "for i in range(6):\n",
        "  if(i==2):\n",
        "    continue\n",
        "  print(i)"
      ],
      "metadata": {
        "colab": {
          "base_uri": "https://localhost:8080/"
        },
        "id": "1EOXmRDsjERL",
        "outputId": "faf6a1d0-aa8a-4c3f-f72a-c7d2bbf9226f"
      },
      "execution_count": null,
      "outputs": [
        {
          "output_type": "stream",
          "name": "stdout",
          "text": [
            "0\n",
            "1\n",
            "3\n",
            "4\n",
            "5\n"
          ]
        }
      ]
    },
    {
      "cell_type": "code",
      "source": [
        "for i in range (1,11):\n",
        "  print(i)"
      ],
      "metadata": {
        "colab": {
          "base_uri": "https://localhost:8080/"
        },
        "id": "vY68uOVTh-b3",
        "outputId": "48121c9d-1c16-4df0-e4ef-bddbb3459d8f"
      },
      "execution_count": null,
      "outputs": [
        {
          "output_type": "stream",
          "name": "stdout",
          "text": [
            "1\n",
            "2\n",
            "3\n",
            "4\n",
            "5\n",
            "6\n",
            "7\n",
            "8\n",
            "9\n",
            "10\n"
          ]
        }
      ]
    },
    {
      "cell_type": "code",
      "source": [
        "for i in range(8):\n",
        "  if(i==4):\n",
        "    break\n",
        "  print(i)"
      ],
      "metadata": {
        "colab": {
          "base_uri": "https://localhost:8080/"
        },
        "id": "v6_x7x60kQhc",
        "outputId": "711c2722-e2b1-4bd0-8862-12f9da864105"
      },
      "execution_count": null,
      "outputs": [
        {
          "output_type": "stream",
          "name": "stdout",
          "text": [
            "0\n",
            "1\n",
            "2\n",
            "3\n"
          ]
        }
      ]
    },
    {
      "cell_type": "code",
      "source": [
        "for x in range(1,6):\n",
        "    for y in range(1,6):\n",
        "      print(int(y),end=\"\")\n",
        "    print()"
      ],
      "metadata": {
        "colab": {
          "base_uri": "https://localhost:8080/"
        },
        "id": "Cy7gDUt9F1GO",
        "outputId": "3c1fb7de-8260-47fe-b3b7-05f6fcb1202b"
      },
      "execution_count": null,
      "outputs": [
        {
          "output_type": "stream",
          "name": "stdout",
          "text": [
            "12345\n",
            "12345\n",
            "12345\n",
            "12345\n",
            "12345\n"
          ]
        }
      ]
    },
    {
      "cell_type": "code",
      "source": [
        "a=int(input())\n",
        "for i in range(a):\n",
        "     print(\"*\"*a)"
      ],
      "metadata": {
        "id": "ztttwyrRFaag",
        "outputId": "fa4e9727-95de-4acc-cae9-d5f39d3cbd94",
        "colab": {
          "base_uri": "https://localhost:8080/"
        }
      },
      "execution_count": null,
      "outputs": [
        {
          "output_type": "stream",
          "name": "stdout",
          "text": [
            "5\n",
            "*****\n",
            "*****\n",
            "*****\n",
            "*****\n",
            "*****\n"
          ]
        }
      ]
    },
    {
      "cell_type": "code",
      "source": [
        "k=int(input())\n",
        "h=int(input())\n",
        "if(h>k and k<h):\n",
        "    print(\"qiuzbuiz\")\n",
        "elif(h>k and k>h):\n",
        "    print(\"quiz\")\n",
        "else:\n",
        "    print(\"buiz\")"
      ],
      "metadata": {
        "colab": {
          "base_uri": "https://localhost:8080/"
        },
        "id": "-B0M3lbthXp-",
        "outputId": "6587d278-6f79-4ed4-b5b7-0b55b8d05420"
      },
      "execution_count": null,
      "outputs": [
        {
          "output_type": "stream",
          "name": "stdout",
          "text": [
            "34\n",
            "65\n",
            "qiuzbuiz\n"
          ]
        }
      ]
    },
    {
      "cell_type": "code",
      "source": [
        "\n",
        "#area of rectangle\n",
        "L=int(input())\n",
        "B=int(input())\n",
        "area=1/2*L*B\n",
        "print(area)"
      ],
      "metadata": {
        "colab": {
          "base_uri": "https://localhost:8080/"
        },
        "id": "tj3VHPtUjxY5",
        "outputId": "b6cd5b48-ad41-4236-b35d-0c30fa89b76d"
      },
      "execution_count": null,
      "outputs": [
        {
          "output_type": "stream",
          "name": "stdout",
          "text": [
            "45\n",
            "4\n",
            "90.0\n"
          ]
        }
      ]
    },
    {
      "cell_type": "code",
      "source": [
        "#area of circle\n",
        "R=int(input())\n",
        "area=3.141*R*R\n",
        "print(area)"
      ],
      "metadata": {
        "colab": {
          "base_uri": "https://localhost:8080/"
        },
        "id": "3f40UAVykNP0",
        "outputId": "9e2d3f12-7caa-449d-ea58-38b66eb6ea42"
      },
      "execution_count": null,
      "outputs": [
        {
          "output_type": "stream",
          "name": "stdout",
          "text": [
            "3\n",
            "28.269\n"
          ]
        }
      ]
    },
    {
      "cell_type": "code",
      "source": [
        "\n",
        "#area if triangle\n",
        "l=3\n",
        "b=3\n",
        "area=l*b\n",
        "print(area)"
      ],
      "metadata": {
        "colab": {
          "base_uri": "https://localhost:8080/"
        },
        "id": "UMg2drC3DQLM",
        "outputId": "291104e8-4900-44aa-9846-dc190ebaacc5"
      },
      "execution_count": null,
      "outputs": [
        {
          "output_type": "stream",
          "name": "stdout",
          "text": [
            "9\n"
          ]
        }
      ]
    },
    {
      "cell_type": "code",
      "source": [
        "#calculator\n",
        "a=int(input())\n",
        "b=int(input())\n",
        "c=input(\"enter operation:\")\n",
        "if(c=='+'):\n",
        "    print(\"sum is\",a+b)\n",
        "elif(c=='-'):\n",
        "    print(\"sub is\",a-b)\n",
        "elif(c=='*'):\n",
        "    print(\"mul is\",a*b)\n",
        "elif(c=='/'):\n",
        "    print(\"div is\",a/b)\n",
        "elif(c=='%'):\n",
        "    print(\"per is\",a%b)"
      ],
      "metadata": {
        "colab": {
          "base_uri": "https://localhost:8080/"
        },
        "id": "garFJ8Rwk117",
        "outputId": "d6d8d490-6a35-43b2-98e4-46342d3edc57"
      },
      "execution_count": null,
      "outputs": [
        {
          "output_type": "stream",
          "name": "stdout",
          "text": [
            "4\n",
            "6\n",
            "enter operation:+\n",
            "sum is 11\n"
          ]
        }
      ]
    },
    {
      "cell_type": "code",
      "source": [
        "for i in range (2,11,2):\n",
        "  print(i)"
      ],
      "metadata": {
        "colab": {
          "base_uri": "https://localhost:8080/"
        },
        "id": "48Pu9CPbMLOk",
        "outputId": "4b81fdcd-a77b-4806-a29a-014f871e44ac"
      },
      "execution_count": null,
      "outputs": [
        {
          "output_type": "stream",
          "name": "stdout",
          "text": [
            "2\n",
            "4\n",
            "6\n",
            "8\n",
            "10\n"
          ]
        }
      ]
    },
    {
      "cell_type": "code",
      "source": [
        "a=int(input())\n",
        "if(a<20):\n",
        "  print(\"charge your phone\")\n",
        "elif(a<=50):\n",
        "  print(\"use your phone limit\")\n",
        "else:\n",
        "  print(\"use your phone\")"
      ],
      "metadata": {
        "colab": {
          "base_uri": "https://localhost:8080/"
        },
        "id": "g1Lx7VOXSAR4",
        "outputId": "dc751eaf-b4cc-4399-f05d-2672010ae04e"
      },
      "execution_count": null,
      "outputs": [
        {
          "output_type": "stream",
          "name": "stdout",
          "text": [
            "567\n",
            "use your phone\n"
          ]
        }
      ]
    },
    {
      "cell_type": "code",
      "source": [
        "fruit=[\"apples\",\"bananas\",\"grapes\"]\n",
        "for i in fruit:\n",
        "  print(i)"
      ],
      "metadata": {
        "colab": {
          "base_uri": "https://localhost:8080/"
        },
        "id": "TgjECf0DSsA4",
        "outputId": "572c0c1e-e301-4d06-9966-f701d8d93847"
      },
      "execution_count": null,
      "outputs": [
        {
          "output_type": "stream",
          "name": "stdout",
          "text": [
            "apples\n",
            "bananas\n",
            "grapes\n"
          ]
        }
      ]
    },
    {
      "cell_type": "code",
      "source": [
        "F=(1,2,3,4,5,6,7,8,)\n",
        "for i in F:\n",
        "  print(i)"
      ],
      "metadata": {
        "colab": {
          "base_uri": "https://localhost:8080/"
        },
        "id": "oIFCk4H8TDjM",
        "outputId": "bd4db055-6630-48ab-c05e-945dbe7e7a85"
      },
      "execution_count": null,
      "outputs": [
        {
          "output_type": "stream",
          "name": "stdout",
          "text": [
            "1\n",
            "2\n",
            "3\n",
            "4\n",
            "5\n",
            "6\n",
            "7\n",
            "8\n"
          ]
        }
      ]
    },
    {
      "cell_type": "code",
      "source": [
        "a=int(input())\n",
        "b=int(input())\n",
        "c=input(\"enter operation:\")\n",
        "if(c=='+'):\n",
        "    print(a+b)\n",
        "elif(c=='-'):\n",
        "    print(a-b)\n",
        "elif(c=='*'):\n",
        "    print(a*b)\n",
        "elif(c=='/'):\n",
        "    print(a/b)\n",
        "elif(c=='%'):\n",
        "    print(a%b)"
      ],
      "metadata": {
        "colab": {
          "base_uri": "https://localhost:8080/"
        },
        "id": "UVpYPIqHURG0",
        "outputId": "8b1307f6-f5e9-4266-b3d2-de9c20b06a4f"
      },
      "execution_count": null,
      "outputs": [
        {
          "output_type": "stream",
          "name": "stdout",
          "text": [
            "4\n",
            "5\n",
            "enter operation:-\n",
            "-1\n"
          ]
        }
      ]
    },
    {
      "cell_type": "code",
      "source": [
        "a=int(input())\n",
        "if(a<10):\n",
        "   print(\"true\")\n",
        "else:\n",
        "   print(\"false\")"
      ],
      "metadata": {
        "colab": {
          "base_uri": "https://localhost:8080/"
        },
        "id": "f16ECPMC9VuI",
        "outputId": "6cbabdeb-30d8-439e-88b3-5b13060aaafc"
      },
      "execution_count": null,
      "outputs": [
        {
          "output_type": "stream",
          "name": "stdout",
          "text": [
            "45\n",
            "false\n"
          ]
        }
      ]
    },
    {
      "cell_type": "code",
      "source": [
        "a=(input())\n",
        "if(a==\"greenball\"):\n",
        "  print(\"found\")\n",
        "else:\n",
        "  print(\"not found\")"
      ],
      "metadata": {
        "colab": {
          "base_uri": "https://localhost:8080/"
        },
        "id": "OECRycoQCZHk",
        "outputId": "7f5046f8-1691-4f64-91bb-ab75ed74a0c4"
      },
      "execution_count": null,
      "outputs": [
        {
          "output_type": "stream",
          "name": "stdout",
          "text": [
            "blue\n",
            "not found\n"
          ]
        }
      ]
    },
    {
      "cell_type": "code",
      "source": [
        "a=int(input())\n",
        "if(a>10):\n",
        "  print(\"a is greater than 10\")\n",
        "elif(a==10):\n",
        "  print(\"a is equal to 10\")\n",
        "else:\n",
        "  print(\"a is less than 10\")"
      ],
      "metadata": {
        "colab": {
          "base_uri": "https://localhost:8080/"
        },
        "id": "E2aCfIGjEUfb",
        "outputId": "9b94d466-07a2-415d-ef20-c00a125c8f3a"
      },
      "execution_count": null,
      "outputs": [
        {
          "output_type": "stream",
          "name": "stdout",
          "text": [
            "2\n",
            "a is less than 10\n"
          ]
        }
      ]
    },
    {
      "cell_type": "code",
      "source": [
        "X=int(input())\n",
        "print(\"eligible for vote\",X>=18)\n",
        "print(\"not eligible for vote\",X<=18)"
      ],
      "metadata": {
        "colab": {
          "base_uri": "https://localhost:8080/"
        },
        "id": "4MCe3tVLDWoT",
        "outputId": "ed84a04b-d3b1-4206-fd4d-82f7f2083444"
      },
      "execution_count": null,
      "outputs": [
        {
          "output_type": "stream",
          "name": "stdout",
          "text": [
            "4\n",
            "eligible for vote False\n",
            "not eligible for vote True\n"
          ]
        }
      ]
    },
    {
      "cell_type": "code",
      "source": [
        "a=int(input())\n",
        "print(\"even number\",a%2==0)\n",
        "print(\"odd number\",a%2!=0)"
      ],
      "metadata": {
        "colab": {
          "base_uri": "https://localhost:8080/"
        },
        "id": "l3sRh4AqIE3j",
        "outputId": "14bddc6b-a22b-42c6-f78d-bf94f068f657"
      },
      "execution_count": null,
      "outputs": [
        {
          "output_type": "stream",
          "name": "stdout",
          "text": [
            "5\n",
            "even number False\n",
            "odd number True\n"
          ]
        }
      ]
    },
    {
      "cell_type": "code",
      "source": [
        "x=0.65\n",
        "type(x)"
      ],
      "metadata": {
        "colab": {
          "base_uri": "https://localhost:8080/"
        },
        "id": "GRMjB7sH7mi-",
        "outputId": "c1669207-7767-4239-aa52-fb0dfb157c4d"
      },
      "execution_count": null,
      "outputs": [
        {
          "output_type": "execute_result",
          "data": {
            "text/plain": [
              "float"
            ]
          },
          "metadata": {},
          "execution_count": 8
        }
      ]
    },
    {
      "cell_type": "code",
      "source": [
        "F=['1','2','3']\n",
        "type(F)"
      ],
      "metadata": {
        "colab": {
          "base_uri": "https://localhost:8080/"
        },
        "id": "4a8ana0f71lu",
        "outputId": "770a4521-5dac-472d-ab56-4789d18a4751"
      },
      "execution_count": null,
      "outputs": [
        {
          "output_type": "execute_result",
          "data": {
            "text/plain": [
              "list"
            ]
          },
          "metadata": {},
          "execution_count": 9
        }
      ]
    },
    {
      "cell_type": "code",
      "source": [
        "X=int(4)\n",
        "Y=float(7)\n",
        "print(X)\n",
        "print(Y)\n",
        "print(X+Y)"
      ],
      "metadata": {
        "colab": {
          "base_uri": "https://localhost:8080/"
        },
        "id": "CGP_qIew8C-5",
        "outputId": "2acaca6e-05e4-414e-e0bb-cbf4ab13e41e"
      },
      "execution_count": null,
      "outputs": [
        {
          "output_type": "stream",
          "name": "stdout",
          "text": [
            "4\n",
            "7.0\n",
            "11.0\n"
          ]
        }
      ]
    },
    {
      "cell_type": "code",
      "source": [
        "a=5\n",
        "print(a)\n",
        "type(a)"
      ],
      "metadata": {
        "colab": {
          "base_uri": "https://localhost:8080/"
        },
        "id": "4t2wNwkG8Ued",
        "outputId": "5df7474e-e94f-41d6-b03e-16065418333e"
      },
      "execution_count": null,
      "outputs": [
        {
          "output_type": "stream",
          "name": "stdout",
          "text": [
            "5\n"
          ]
        },
        {
          "output_type": "execute_result",
          "data": {
            "text/plain": [
              "int"
            ]
          },
          "metadata": {},
          "execution_count": 13
        }
      ]
    },
    {
      "cell_type": "code",
      "source": [
        "X=\"karthik\"\n",
        "print(X)\n",
        "type(X)"
      ],
      "metadata": {
        "colab": {
          "base_uri": "https://localhost:8080/"
        },
        "id": "cdwBw1TD7LqA",
        "outputId": "3f2da3e2-30b2-40b0-95c0-8ab894ab6950"
      },
      "execution_count": null,
      "outputs": [
        {
          "output_type": "stream",
          "name": "stdout",
          "text": [
            "karthik\n"
          ]
        },
        {
          "output_type": "execute_result",
          "data": {
            "text/plain": [
              "str"
            ]
          },
          "metadata": {},
          "execution_count": 4
        }
      ]
    }
  ]
}