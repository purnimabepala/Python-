{
  "nbformat": 4,
  "nbformat_minor": 0,
  "metadata": {
    "colab": {
      "provenance": [],
      "authorship_tag": "ABX9TyPG4DLsI+OMjCaxEc6pusHd",
      "include_colab_link": true
    },
    "kernelspec": {
      "name": "python3",
      "display_name": "Python 3"
    },
    "language_info": {
      "name": "python"
    }
  },
  "cells": [
    {
      "cell_type": "markdown",
      "metadata": {
        "id": "view-in-github",
        "colab_type": "text"
      },
      "source": [
        "<a href=\"https://colab.research.google.com/github/purnimabepala/Python-/blob/main/Python_class_hrs.ipynb\" target=\"_parent\"><img src=\"https://colab.research.google.com/assets/colab-badge.svg\" alt=\"Open In Colab\"/></a>"
      ]
    },
    {
      "cell_type": "code",
      "execution_count": null,
      "metadata": {
        "colab": {
          "base_uri": "https://localhost:8080/"
        },
        "id": "zt6TiXC8xjyS",
        "outputId": "951dd32b-cd39-4a02-acab-f9b4acc80cc4"
      },
      "outputs": [
        {
          "output_type": "stream",
          "name": "stdout",
          "text": [
            "[1, 2, 3, [4, 5, 6]]\n"
          ]
        }
      ],
      "source": [
        "A=[1,2,3]\n",
        "B=[4,5,6]\n",
        "A.append(B)\n",
        "print(A)"
      ]
    },
    {
      "cell_type": "code",
      "source": [
        "def calculate(a,b,c):\n",
        "    total=a+b+c #sum\n",
        "    average=total/3 #average\n",
        "    return total, average\n",
        "# calling the function\n",
        "result_sum,result_avg = calculate(10,20,30)\n",
        "\n",
        "print(\"sum =\",result_sum)\n",
        "print(\"average =\",result_avg)"
      ],
      "metadata": {
        "colab": {
          "base_uri": "https://localhost:8080/"
        },
        "id": "1phDW_rlvxbr",
        "outputId": "14096f4f-3f71-4c7b-d0a8-cb73d6c5c07e"
      },
      "execution_count": null,
      "outputs": [
        {
          "output_type": "stream",
          "name": "stdout",
          "text": [
            "sum = 60\n",
            "average = 20.0\n"
          ]
        }
      ]
    },
    {
      "cell_type": "code",
      "source": [
        "def greet(name=\"Guest\",message=\"Welcome to python!\"):\n",
        "    print(f\"Hello {name},{message}\")\n",
        "#calling function without arguments(uses default values)\n",
        "greet()\n",
        "#calling function with one argument (overrides 'name')\n",
        "greet(\"Bhuvana\")\n",
        "#calling function with both arguments(overrides defaults)\n",
        "greet(\"Bhuvana\",\"Good to see you learning python!\")"
      ],
      "metadata": {
        "colab": {
          "base_uri": "https://localhost:8080/"
        },
        "id": "h7t4EZc5zy88",
        "outputId": "6c975036-72c7-4c36-fc40-8f9652067dae"
      },
      "execution_count": null,
      "outputs": [
        {
          "output_type": "stream",
          "name": "stdout",
          "text": [
            "Hello Guest,Welcome to python!\n",
            "Hello Bhuvana,Welcome to python!\n",
            "Hello Bhuvana,Good to see you learning python!\n"
          ]
        }
      ]
    },
    {
      "cell_type": "code",
      "source": [
        "def string_length(s):\n",
        "    count=0\n",
        "    for char in s:\n",
        "      count += 1\n",
        "    return count\n",
        "#Example usage\n",
        "my_string = \"python\"\n",
        "print(\"The string is :\",my_string)\n",
        "print(\"Length of the string is:\", string_length(my_string))"
      ],
      "metadata": {
        "colab": {
          "base_uri": "https://localhost:8080/"
        },
        "id": "fCk5k7V43Zp9",
        "outputId": "8b751e6f-c887-4946-974a-da0552f58049"
      },
      "execution_count": null,
      "outputs": [
        {
          "output_type": "stream",
          "name": "stdout",
          "text": [
            "The string is : python\n",
            "Length of the string is: 6\n"
          ]
        }
      ]
    },
    {
      "cell_type": "code",
      "source": [
        "numbers = [10,20,5,15,30]\n",
        "print(\"Original list:\",numbers)\n",
        "print(\"length of list:\",len(numbers))\n",
        "print(\"Minimum element:\",min(numbers))\n",
        "print(\"Maximum element:\",max(numbers))\n",
        "print(\"sum of all elements:\",sum(numbers))\n",
        "print(\"sorted list:\",sorted(numbers))"
      ],
      "metadata": {
        "colab": {
          "base_uri": "https://localhost:8080/"
        },
        "id": "VGVx3UD876HU",
        "outputId": "79a1452f-0725-40cf-b968-a1215e8f2d7c"
      },
      "execution_count": null,
      "outputs": [
        {
          "output_type": "stream",
          "name": "stdout",
          "text": [
            "Original list: [10, 20, 5, 15, 30]\n",
            "length of list: 5\n",
            "Minimum element: 5\n",
            "Maximum element: 30\n",
            "sum of all elements: 80\n",
            "sorted list: [5, 10, 15, 20, 30]\n"
          ]
        }
      ]
    },
    {
      "cell_type": "code",
      "source": [
        "A=[4,5,6]\n",
        "B=[1,2,3]\n",
        "A.extend(B)\n",
        "print(A)"
      ],
      "metadata": {
        "colab": {
          "base_uri": "https://localhost:8080/"
        },
        "id": "AKWSRfbSznSv",
        "outputId": "4be18200-407e-40bb-f88c-8b10b83b1372"
      },
      "execution_count": null,
      "outputs": [
        {
          "output_type": "stream",
          "name": "stdout",
          "text": [
            "[4, 5, 6, 1, 2, 3]\n"
          ]
        }
      ]
    },
    {
      "cell_type": "code",
      "source": [
        "List=[1,2,3,4,5]\n",
        "List.clear()\n",
        "print(List)"
      ],
      "metadata": {
        "colab": {
          "base_uri": "https://localhost:8080/"
        },
        "id": "6uRUPCgC0AQf",
        "outputId": "e4c80d24-0ff7-428d-baaf-dd6e5ba3f30e"
      },
      "execution_count": null,
      "outputs": [
        {
          "output_type": "stream",
          "name": "stdout",
          "text": [
            "[]\n"
          ]
        }
      ]
    },
    {
      "cell_type": "code",
      "source": [
        "A=['a','b','c','d']\n",
        "X=A.pop(2)"
      ],
      "metadata": {
        "id": "_-8RP_5Q4cO6"
      },
      "execution_count": null,
      "outputs": []
    },
    {
      "cell_type": "code",
      "source": [
        "A=[\"jasmine\",\"jasmine\",\"sunflower\"]\n",
        "X=A.count(\"jasmine\")\n",
        "print(X)"
      ],
      "metadata": {
        "colab": {
          "base_uri": "https://localhost:8080/"
        },
        "id": "SNE22tJX1jbu",
        "outputId": "5463a6cb-d130-401a-d478-c8812094a708"
      },
      "execution_count": null,
      "outputs": [
        {
          "output_type": "stream",
          "name": "stdout",
          "text": [
            "2\n"
          ]
        }
      ]
    },
    {
      "cell_type": "code",
      "source": [
        "K=['a','b','c']\n",
        "X= K.index('c')\n",
        "print(X)"
      ],
      "metadata": {
        "colab": {
          "base_uri": "https://localhost:8080/"
        },
        "id": "i0cNGj182RPa",
        "outputId": "58b30186-fb19-4ea4-f2bf-c0d9d84af1cb"
      },
      "execution_count": null,
      "outputs": [
        {
          "output_type": "stream",
          "name": "stdout",
          "text": [
            "2\n"
          ]
        }
      ]
    },
    {
      "cell_type": "code",
      "source": [
        "A=['a','b','c','d']\n",
        "A.insert(2,'k')\n",
        "print(A)"
      ],
      "metadata": {
        "colab": {
          "base_uri": "https://localhost:8080/"
        },
        "id": "jXkHiR_93Eey",
        "outputId": "de724ba8-9ff4-4902-ab47-68d65ad7e486"
      },
      "execution_count": null,
      "outputs": [
        {
          "output_type": "stream",
          "name": "stdout",
          "text": [
            "['a', 'b', 'k', 'c', 'd']\n"
          ]
        }
      ]
    },
    {
      "cell_type": "code",
      "source": [
        "A=['a','b','c']\n",
        "X=A.copy()\n",
        "print(X)"
      ],
      "metadata": {
        "colab": {
          "base_uri": "https://localhost:8080/"
        },
        "id": "R9nmLjYQ0yAF",
        "outputId": "19c58af1-dde2-4a92-c32f-2e159ea7de71"
      },
      "execution_count": null,
      "outputs": [
        {
          "output_type": "stream",
          "name": "stdout",
          "text": [
            "['a', 'b', 'c']\n"
          ]
        }
      ]
    }
  ]
}