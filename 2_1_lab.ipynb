{
  "nbformat": 4,
  "nbformat_minor": 0,
  "metadata": {
    "colab": {
      "provenance": [],
      "authorship_tag": "ABX9TyOPNxBRsSa9Lp33MqewZWBM",
      "include_colab_link": true
    },
    "kernelspec": {
      "name": "python3",
      "display_name": "Python 3"
    },
    "language_info": {
      "name": "python"
    }
  },
  "cells": [
    {
      "cell_type": "markdown",
      "metadata": {
        "id": "view-in-github",
        "colab_type": "text"
      },
      "source": [
        "<a href=\"https://colab.research.google.com/github/purnimabepala/Python-/blob/main/2_1_lab.ipynb\" target=\"_parent\"><img src=\"https://colab.research.google.com/assets/colab-badge.svg\" alt=\"Open In Colab\"/></a>"
      ]
    },
    {
      "cell_type": "code",
      "source": [
        "num1 = 10\n",
        "num2 = 14\n",
        "num3 = 12\n",
        "\n",
        "if (num1 > num2) and (num1 > num3):\n",
        "    largest = num1\n",
        "elif (num2 > num1) and (num2 > num3):\n",
        "    largest = num2\n",
        "else:\n",
        "    largest = num3\n",
        "\n",
        "print(\"The largest number is\", largest)"
      ],
      "metadata": {
        "colab": {
          "base_uri": "https://localhost:8080/"
        },
        "id": "3cqZTmjVoUbN",
        "outputId": "189b497d-7893-41c1-8a57-d640290b640a"
      },
      "execution_count": null,
      "outputs": [
        {
          "output_type": "stream",
          "name": "stdout",
          "text": [
            "The largest number is 14\n"
          ]
        }
      ]
    },
    {
      "cell_type": "code",
      "execution_count": null,
      "metadata": {
        "colab": {
          "base_uri": "https://localhost:8080/"
        },
        "id": "OdtVXgKVoOFn",
        "outputId": "b0bfc540-8666-444a-ae76-272034a00d6a"
      },
      "outputs": [
        {
          "output_type": "stream",
          "name": "stdout",
          "text": [
            "Prime numbers between 2 and 10 are:\n",
            "2\n",
            "3\n",
            "5\n",
            "7\n"
          ]
        }
      ],
      "source": [
        "lower = 2\n",
        "upper = 10\n",
        "\n",
        "print(\"Prime numbers between\", lower, \"and\", upper, \"are:\")\n",
        "\n",
        "for num in range(lower, upper + 1):\n",
        "    if num > 1:\n",
        "        for i in range(2, num):\n",
        "            if (num % i) == 0:\n",
        "                break\n",
        "        else:\n",
        "            print(num)"
      ]
    },
    {
      "cell_type": "code",
      "source": [
        "num1=complex(2,3)\n",
        "num2=complex(4,5)\n",
        "\n",
        "#addition\n",
        "sum_result=num1+num2\n",
        "#multiplication\n",
        "product_result=num1*num2\n",
        "\n",
        "#display the results\n",
        "print(\"first complex number:\",num1)\n",
        "print(\"second complex number:\",num2)\n",
        "print(\"sum:\",sum_result)\n",
        "print(\"product:\",product_result)"
      ],
      "metadata": {
        "colab": {
          "base_uri": "https://localhost:8080/"
        },
        "id": "NAbzYxSkxDDX",
        "outputId": "7035d410-80bd-4a4f-eb7e-9a42abccae79"
      },
      "execution_count": null,
      "outputs": [
        {
          "output_type": "stream",
          "name": "stdout",
          "text": [
            "first complex number: (2+3j)\n",
            "second complex number: (4+5j)\n",
            "sum: (6+8j)\n",
            "product: (-7+22j)\n"
          ]
        }
      ]
    },
    {
      "cell_type": "code",
      "source": [
        "num=int(input(\"enter a number to print its multiplication table: \"))\n",
        "print(f\"\\nMultiplication table of {num}:\\n\")\n",
        "for i in range(1,11):\n",
        "    print(f\"{num} * {i} = {num*i}\")"
      ],
      "metadata": {
        "colab": {
          "base_uri": "https://localhost:8080/"
        },
        "id": "4qS4xDMT0ohP",
        "outputId": "59ca0964-3c06-438e-8f99-d14996fe40d8"
      },
      "execution_count": null,
      "outputs": [
        {
          "output_type": "stream",
          "name": "stdout",
          "text": [
            "enter a number to print its multiplication table: 6\n",
            "\n",
            "Multiplication table of 6:\n",
            "\n",
            "6 * 1 = 6\n",
            "6 * 2 = 12\n",
            "6 * 3 = 18\n",
            "6 * 4 = 24\n",
            "6 * 5 = 30\n",
            "6 * 6 = 36\n",
            "6 * 7 = 42\n",
            "6 * 8 = 48\n",
            "6 * 9 = 54\n",
            "6 * 10 = 60\n"
          ]
        }
      ]
    },
    {
      "cell_type": "code",
      "source": [],
      "metadata": {
        "id": "QACg5zSK1RJz"
      },
      "execution_count": null,
      "outputs": []
    }
  ]
}