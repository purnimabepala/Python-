{
  "nbformat": 4,
  "nbformat_minor": 0,
  "metadata": {
    "colab": {
      "provenance": [],
      "authorship_tag": "ABX9TyMnDXQ6HPU0AxR7/djNrsIP",
      "include_colab_link": true
    },
    "kernelspec": {
      "name": "python3",
      "display_name": "Python 3"
    },
    "language_info": {
      "name": "python"
    }
  },
  "cells": [
    {
      "cell_type": "markdown",
      "metadata": {
        "id": "view-in-github",
        "colab_type": "text"
      },
      "source": [
        "<a href=\"https://colab.research.google.com/github/purnimabepala/Python-/blob/main/28_july_.ipynb\" target=\"_parent\"><img src=\"https://colab.research.google.com/assets/colab-badge.svg\" alt=\"Open In Colab\"/></a>"
      ]
    },
    {
      "cell_type": "code",
      "execution_count": null,
      "metadata": {
        "colab": {
          "base_uri": "https://localhost:8080/"
        },
        "id": "IezsoATdbu1j",
        "outputId": "b1781d48-bfcb-4fcd-82f5-2acb7d5f99a6"
      },
      "outputs": [
        {
          "output_type": "stream",
          "name": "stdout",
          "text": [
            "enter a string:Fish\n",
            "Fish\n"
          ]
        }
      ],
      "source": [
        "#remove duplicate from a string\n",
        "v=input(\"enter a string:\")\n",
        "k=''.join(dict.fromkeys(v))\n",
        "print(k)"
      ]
    },
    {
      "cell_type": "code",
      "source": [
        "#sqaure pattren\n",
        "n=int(input())\n",
        "for i in range (1,n):\n",
        "  for j in range(1,n):\n",
        "    print(\"*\",end=\"\")\n",
        "  print()"
      ],
      "metadata": {
        "colab": {
          "base_uri": "https://localhost:8080/"
        },
        "id": "ezDXhyD9b1gj",
        "outputId": "5a466800-a7ff-4452-f4a6-2ff7c9406a06"
      },
      "execution_count": null,
      "outputs": [
        {
          "output_type": "stream",
          "name": "stdout",
          "text": [
            "4\n",
            "***\n",
            "***\n",
            "***\n"
          ]
        }
      ]
    },
    {
      "cell_type": "code",
      "source": [
        "#count words in sentence\n",
        "v=input(\"enter sentence:\")\n",
        "count = 1\n",
        "for i in v:\n",
        "  if i == \" \":\n",
        "    count = count + 1\n",
        "print(count)"
      ],
      "metadata": {
        "colab": {
          "base_uri": "https://localhost:8080/"
        },
        "id": "i1_0Hvx8b3_d",
        "outputId": "a34584ec-341c-4b5c-cf1f-255cc9c35c6e"
      },
      "execution_count": null,
      "outputs": [
        {
          "output_type": "stream",
          "name": "stdout",
          "text": [
            "enter sentence:Love\n",
            "1\n"
          ]
        }
      ]
    },
    {
      "cell_type": "code",
      "source": [
        "#intersection\n",
        "a={1,2,3,4}\n",
        "b={2,3,4,5}\n",
        "c={0,2,3,4}\n",
        "d=a.intersection(b,c)\n",
        "print(d)"
      ],
      "metadata": {
        "colab": {
          "base_uri": "https://localhost:8080/"
        },
        "id": "Ct1kjAW-b-ef",
        "outputId": "4497ae26-faa9-476c-bbcd-a5552070eb21"
      },
      "execution_count": null,
      "outputs": [
        {
          "output_type": "stream",
          "name": "stdout",
          "text": [
            "{2, 3, 4}\n"
          ]
        }
      ]
    }
  ]
}