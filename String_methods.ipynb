{
  "nbformat": 4,
  "nbformat_minor": 0,
  "metadata": {
    "colab": {
      "provenance": [],
      "authorship_tag": "ABX9TyNS2n6HFLl4qoSHXNeELILg",
      "include_colab_link": true
    },
    "kernelspec": {
      "name": "python3",
      "display_name": "Python 3"
    },
    "language_info": {
      "name": "python"
    }
  },
  "cells": [
    {
      "cell_type": "markdown",
      "metadata": {
        "id": "view-in-github",
        "colab_type": "text"
      },
      "source": [
        "<a href=\"https://colab.research.google.com/github/purnimabepala/Python-/blob/main/String_methods.ipynb\" target=\"_parent\"><img src=\"https://colab.research.google.com/assets/colab-badge.svg\" alt=\"Open In Colab\"/></a>"
      ]
    },
    {
      "cell_type": "code",
      "execution_count": null,
      "metadata": {
        "colab": {
          "base_uri": "https://localhost:8080/"
        },
        "id": "UZ8D5SBhl8H9",
        "outputId": "65526c70-ef07-4e29-9484-ff935cdda5a7"
      },
      "outputs": [
        {
          "output_type": "stream",
          "name": "stdout",
          "text": [
            "False\n"
          ]
        }
      ],
      "source": [
        "Txt=\"hello, welcome to my world.\"\n",
        "X=Txt.endswith(\"my world\")\n",
        "print (X)"
      ]
    },
    {
      "cell_type": "code",
      "source": [
        "txt=\"(H\\te\\tl\\tl\\to)\"\n",
        "print(txt.expandtabs(4))"
      ],
      "metadata": {
        "id": "qB2w33ppm4Fz",
        "colab": {
          "base_uri": "https://localhost:8080/"
        },
        "outputId": "ae303020-0915-4a91-a2df-8a69c420cde9"
      },
      "execution_count": null,
      "outputs": [
        {
          "output_type": "stream",
          "name": "stdout",
          "text": [
            "(H  e   l   l   o)\n"
          ]
        }
      ]
    },
    {
      "cell_type": "code",
      "source": [
        "txt=(\"Hello, welcome to my world\")\n",
        "X=txt.find(\"welcome\")\n",
        "print(X)"
      ],
      "metadata": {
        "colab": {
          "base_uri": "https://localhost:8080/"
        },
        "id": "Ok7_HNk0DXBa",
        "outputId": "1d208413-c6a5-4701-99de-f31b8c5eefb2"
      },
      "execution_count": null,
      "outputs": [
        {
          "output_type": "stream",
          "name": "stdout",
          "text": [
            "7\n"
          ]
        }
      ]
    },
    {
      "cell_type": "code",
      "source": [
        "txt=\"for only {price:2d} dollars\"\n",
        "print(txt.format(price=49))"
      ],
      "metadata": {
        "colab": {
          "base_uri": "https://localhost:8080/"
        },
        "id": "8G5D1KgOEBgh",
        "outputId": "8c86acf7-0388-48fe-cd2a-4afb6baa89de"
      },
      "execution_count": null,
      "outputs": [
        {
          "output_type": "stream",
          "name": "stdout",
          "text": [
            "for only 49 dollars\n"
          ]
        }
      ]
    },
    {
      "cell_type": "code",
      "source": [
        "txt=\"welcome to my world\"\n",
        "x=(txt.index(\"e\"))\n",
        "print(x)"
      ],
      "metadata": {
        "id": "c_fo1sL8EVyB",
        "colab": {
          "base_uri": "https://localhost:8080/"
        },
        "outputId": "9573e1b5-78e9-4968-8894-db29699f18c2"
      },
      "execution_count": null,
      "outputs": [
        {
          "output_type": "stream",
          "name": "stdout",
          "text": [
            "1\n"
          ]
        }
      ]
    },
    {
      "cell_type": "code",
      "source": [
        "txt=\"company12\"\n",
        "X=txt.isalnum()\n",
        "print(X)"
      ],
      "metadata": {
        "colab": {
          "base_uri": "https://localhost:8080/"
        },
        "id": "c52xWj7OyWmx",
        "outputId": "2b75abd0-3ae6-4319-dc5f-19255ae0aad1"
      },
      "execution_count": null,
      "outputs": [
        {
          "output_type": "stream",
          "name": "stdout",
          "text": [
            "True\n"
          ]
        }
      ]
    },
    {
      "cell_type": "code",
      "source": [
        "txt=\"company X\"\n",
        "X=txt.isalpha()\n",
        "print(X)"
      ],
      "metadata": {
        "colab": {
          "base_uri": "https://localhost:8080/"
        },
        "id": "_toCqFq1zHEg",
        "outputId": "731cb4d4-2fc5-4dbb-b35a-cab839ee1973"
      },
      "execution_count": null,
      "outputs": [
        {
          "output_type": "stream",
          "name": "stdout",
          "text": [
            "False\n"
          ]
        }
      ]
    },
    {
      "cell_type": "code",
      "source": [
        "txt=\"company23\"\n",
        "X=txt.isascii()\n",
        "print(X)"
      ],
      "metadata": {
        "colab": {
          "base_uri": "https://localhost:8080/"
        },
        "id": "_2niCe941Rzp",
        "outputId": "cf5b745f-b8db-411a-ce5f-17d9ea7bc2bd"
      },
      "execution_count": null,
      "outputs": [
        {
          "output_type": "stream",
          "name": "stdout",
          "text": [
            "True\n"
          ]
        }
      ]
    },
    {
      "cell_type": "code",
      "source": [
        "txt=\"1234\"\n",
        "X=txt.isdecimal()\n",
        "print(X)"
      ],
      "metadata": {
        "colab": {
          "base_uri": "https://localhost:8080/"
        },
        "id": "cnct4bS22U1W",
        "outputId": "e597c903-0a3c-4278-deea-4c12d733b53c"
      },
      "execution_count": null,
      "outputs": [
        {
          "output_type": "stream",
          "name": "stdout",
          "text": [
            "True\n"
          ]
        }
      ]
    },
    {
      "cell_type": "code",
      "source": [
        "txt=\"50800\"\n",
        "x=txt.isdigit()\n",
        "print(x)"
      ],
      "metadata": {
        "colab": {
          "base_uri": "https://localhost:8080/"
        },
        "id": "U8r5Qje13flT",
        "outputId": "4480c7a0-48c3-4789-c209-81abbce9c427"
      },
      "execution_count": null,
      "outputs": [
        {
          "output_type": "stream",
          "name": "stdout",
          "text": [
            "True\n"
          ]
        }
      ]
    },
    {
      "cell_type": "code",
      "source": [
        "txt=\"my folder\"\n",
        "x=txt.isidentifier()\n",
        "print(x)"
      ],
      "metadata": {
        "colab": {
          "base_uri": "https://localhost:8080/"
        },
        "id": "_kgraAR44XkM",
        "outputId": "f6bd24b6-d9d6-4e0d-e08a-b0c8e861150b"
      },
      "execution_count": null,
      "outputs": [
        {
          "output_type": "stream",
          "name": "stdout",
          "text": [
            "False\n"
          ]
        }
      ]
    },
    {
      "cell_type": "code",
      "source": [
        "txt=\"hello world\"\n",
        "x=txt.islower()\n",
        "print(x)"
      ],
      "metadata": {
        "colab": {
          "base_uri": "https://localhost:8080/"
        },
        "id": "YQWSXutR48HA",
        "outputId": "eb043b8e-9f00-487d-edd9-a85a93aa7186"
      },
      "execution_count": null,
      "outputs": [
        {
          "output_type": "stream",
          "name": "stdout",
          "text": [
            "True\n"
          ]
        }
      ]
    },
    {
      "cell_type": "code",
      "source": [
        "txt=\"1.5\"\n",
        "x=txt.isnumeric()\n",
        "print(x)"
      ],
      "metadata": {
        "colab": {
          "base_uri": "https://localhost:8080/"
        },
        "id": "QIc_-RQ-5OBa",
        "outputId": "1e3a34be-420d-4df7-e0d6-606150e4a2b9"
      },
      "execution_count": null,
      "outputs": [
        {
          "output_type": "stream",
          "name": "stdout",
          "text": [
            "False\n"
          ]
        }
      ]
    },
    {
      "cell_type": "code",
      "source": [
        "txt=\"Hello!\\nare you #1?\"\n",
        "X=txt.isprintable()\n",
        "print(X)"
      ],
      "metadata": {
        "colab": {
          "base_uri": "https://localhost:8080/"
        },
        "id": "1IRuDori5lms",
        "outputId": "0a7765d0-abf7-440e-f2e6-975d2f11dcba"
      },
      "execution_count": null,
      "outputs": [
        {
          "output_type": "stream",
          "name": "stdout",
          "text": [
            "False\n"
          ]
        }
      ]
    },
    {
      "cell_type": "code",
      "source": [
        "txt=\"  \"\n",
        "X=txt.isspace()\n",
        "print(X)"
      ],
      "metadata": {
        "colab": {
          "base_uri": "https://localhost:8080/"
        },
        "id": "kmgvjm226EbC",
        "outputId": "41130c8a-e918-4566-d697-8372f37065da"
      },
      "execution_count": null,
      "outputs": [
        {
          "output_type": "stream",
          "name": "stdout",
          "text": [
            "True\n"
          ]
        }
      ]
    },
    {
      "cell_type": "code",
      "source": [
        "txt=\"Hello\"\n",
        "X=txt.istitle()\n",
        "print(X)"
      ],
      "metadata": {
        "colab": {
          "base_uri": "https://localhost:8080/"
        },
        "id": "8dkeHOLs6rkz",
        "outputId": "849ac41b-9aee-49d5-87e3-0d584adbcaaa"
      },
      "execution_count": null,
      "outputs": [
        {
          "output_type": "stream",
          "name": "stdout",
          "text": [
            "True\n"
          ]
        }
      ]
    }
  ]
}