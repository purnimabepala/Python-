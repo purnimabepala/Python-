{
  "nbformat": 4,
  "nbformat_minor": 0,
  "metadata": {
    "colab": {
      "provenance": [],
      "authorship_tag": "ABX9TyNMXKayqKnJAkOaw9CYaem8",
      "include_colab_link": true
    },
    "kernelspec": {
      "name": "python3",
      "display_name": "Python 3"
    },
    "language_info": {
      "name": "python"
    }
  },
  "cells": [
    {
      "cell_type": "markdown",
      "metadata": {
        "id": "view-in-github",
        "colab_type": "text"
      },
      "source": [
        "<a href=\"https://colab.research.google.com/github/purnimabepala/Python-/blob/main/14_09.ipynb\" target=\"_parent\"><img src=\"https://colab.research.google.com/assets/colab-badge.svg\" alt=\"Open In Colab\"/></a>"
      ]
    },
    {
      "cell_type": "code",
      "execution_count": null,
      "metadata": {
        "colab": {
          "base_uri": "https://localhost:8080/"
        },
        "id": "l2oROWCocqbX",
        "outputId": "f3ec3aa1-1e1b-4750-ae09-cd991d882b2e"
      },
      "outputs": [
        {
          "output_type": "stream",
          "name": "stdout",
          "text": [
            "Enter side a: 24\n",
            "Enter side b: 45\n",
            "Enter side c: 34\n",
            "The area of the triangle is: 401.3706983575159\n"
          ]
        }
      ],
      "source": [
        "import math\n",
        "a = float(input(\"Enter side a: \"))\n",
        "b = float(input(\"Enter side b: \"))\n",
        "c = float(input(\"Enter side c: \"))\n",
        "\n",
        "s = (a + b + c) / 2\n",
        "\n",
        "area = math.sqrt(s * (s - a) * (s - b) * (s - c))\n",
        "\n",
        "print(\"The area of the triangle is:\", area)"
      ]
    },
    {
      "cell_type": "code",
      "source": [
        "# Electricity Bill Calculation\n",
        "units = int(input(\"Enter total units consumed: \"))\n",
        "\n",
        "bill = 0\n",
        "\n",
        "if units <= 100:\n",
        "    bill = units * 5\n",
        "elif units <= 200:\n",
        "    bill = (100 * 5) + (units - 100) * 7\n",
        "else:\n",
        "    bill = (100 * 5) + (100 * 7) + (units - 200) * 10\n",
        "\n",
        "print(\"Electricity Bill = ₹\", bill)"
      ],
      "metadata": {
        "colab": {
          "base_uri": "https://localhost:8080/"
        },
        "id": "Cq7sDSU6dIAm",
        "outputId": "91500646-f606-4be7-ba89-dd06a5e6417f"
      },
      "execution_count": null,
      "outputs": [
        {
          "output_type": "stream",
          "name": "stdout",
          "text": [
            "Enter total units consumed: 56\n",
            "Electricity Bill = ₹ 280\n"
          ]
        }
      ]
    },
    {
      "cell_type": "code",
      "source": [
        "# Compound Interest calculation\n",
        "\n",
        "p = float(input(\"Enter Principal amount: \"))\n",
        "r = float(input(\"Enter Rate of Interest: \"))\n",
        "t = float(input(\"Enter Time (in years): \"))\n",
        "n = int(input(\"Enter number of times interest is compounded per year: \"))\n",
        "\n",
        "# 2) Formula: A = P * (1 + r/(100*n))^(n*t)\n",
        "a = p * (1 + (r / (100 * n))) ** (n * t)\n",
        "\n",
        "ci = a - p\n",
        "\n",
        "print(\"Compound Interest =\", ci)\n",
        "print(\"Total Amount =\", a)"
      ],
      "metadata": {
        "colab": {
          "base_uri": "https://localhost:8080/"
        },
        "id": "GQzuAJeKdaKc",
        "outputId": "8289893e-9ba1-4f4f-8f61-a4feae4583ef"
      },
      "execution_count": null,
      "outputs": [
        {
          "output_type": "stream",
          "name": "stdout",
          "text": [
            "Enter Principal amount: 56\n",
            "Enter Rate of Interest: 59\n",
            "Enter Time (in years): 24\n",
            "Enter number of times interest is compounded per year: 67\n",
            "Compound Interest = 74281187.46737777\n",
            "Total Amount = 74281243.46737777\n"
          ]
        }
      ]
    },
    {
      "cell_type": "code",
      "source": [
        "\n",
        "# Simple Interest calculation\n",
        "\n",
        "p = float(input(\"Enter Principal amount: \"))\n",
        "r = float(input(\"Enter Rate of Interest: \"))\n",
        "t = float(input(\"Enter Time (in years): \"))\n",
        "\n",
        "# 2) Formula: SI = (P * R * T) / 100\n",
        "si = (p * r * t) / 100\n",
        "\n",
        "print(\"Simple Interest =\", si)"
      ],
      "metadata": {
        "colab": {
          "base_uri": "https://localhost:8080/"
        },
        "id": "ZW31-86sdqZs",
        "outputId": "45b97da7-0f2e-47d3-c43c-31a6ec641965"
      },
      "execution_count": null,
      "outputs": [
        {
          "output_type": "stream",
          "name": "stdout",
          "text": [
            "Enter Principal amount: 56\n",
            "Enter Rate of Interest: 45\n",
            "Enter Time (in years): 34\n",
            "Simple Interest = 856.8\n"
          ]
        }
      ]
    },
    {
      "cell_type": "code",
      "source": [
        "# Count vowels in a string\n",
        "\n",
        "text = input(\"Enter a string: \")\n",
        "\n",
        "vowels = \"aeiouAEIOU\"\n",
        "\n",
        "# 3) Initialize counter\n",
        "count = 0\n",
        "\n",
        "for ch in text:\n",
        "    if ch in vowels:\n",
        "        count += 1\n",
        "\n",
        "print(\"Number of vowels in the string:\", count)"
      ],
      "metadata": {
        "colab": {
          "base_uri": "https://localhost:8080/"
        },
        "id": "5SYzdUTEd43W",
        "outputId": "f635cc6b-a3b8-49e9-d523-b1ea2b538df7"
      },
      "execution_count": null,
      "outputs": [
        {
          "name": "stdout",
          "output_type": "stream",
          "text": [
            "Enter a string: Gogglethalli\n"
          ]
        }
      ]
    }
  ]
}