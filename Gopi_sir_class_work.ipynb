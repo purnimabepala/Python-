{
  "cells": [
    {
      "cell_type": "markdown",
      "metadata": {
        "id": "view-in-github",
        "colab_type": "text"
      },
      "source": [
        "<a href=\"https://colab.research.google.com/github/purnimabepala/Python-/blob/main/Gopi_sir_class_work.ipynb\" target=\"_parent\"><img src=\"https://colab.research.google.com/assets/colab-badge.svg\" alt=\"Open In Colab\"/></a>"
      ]
    },
    {
      "cell_type": "markdown",
      "metadata": {
        "id": "JCI_nQ5otSLn"
      },
      "source": []
    },
    {
      "cell_type": "code",
      "execution_count": null,
      "metadata": {
        "colab": {
          "base_uri": "https://localhost:8080/"
        },
        "id": "dbs8JsmAuEhy",
        "outputId": "846016d9-596a-4298-a6d8-7c49ea74ac4e"
      },
      "outputs": [
        {
          "name": "stdout",
          "output_type": "stream",
          "text": [
            "3\n",
            "4\n",
            "49\n"
          ]
        }
      ],
      "source": [
        "a=int(input())\n",
        "b=int(input())\n",
        "c=(a*a)+(b*b)+(2*a*b)\n",
        "print(c)"
      ]
    },
    {
      "cell_type": "code",
      "execution_count": null,
      "metadata": {
        "colab": {
          "base_uri": "https://localhost:8080/"
        },
        "id": "WpBvjyrAxq_N",
        "outputId": "38664591-30b5-4b54-91a3-d15637509a86"
      },
      "outputs": [
        {
          "name": "stdout",
          "output_type": "stream",
          "text": [
            "\teastern power corporation\n",
            "\n",
            "\tmeter number    :234561577\n",
            "\tcustomer name   :bepala Krishna \n",
            "\tcurrent units   :100          \n",
            "\tprevious units  :30          \n",
            "\ttotal units     :70          \n",
            "\ttotal amount    :420          \n"
          ]
        }
      ],
      "source": [
        "print(\"\\teastern power corporation\\n\")\n",
        "print(\"\\tmeter number    :234561577\")\n",
        "print(\"\\tcustomer name   :bepala Krishna \")\n",
        "print(\"\\tcurrent units   :100          \")\n",
        "print(\"\\tprevious units  :30          \")\n",
        "print(\"\\ttotal units     :70          \")\n",
        "print(\"\\ttotal amount    :420          \")"
      ]
    },
    {
      "cell_type": "code",
      "execution_count": null,
      "metadata": {
        "colab": {
          "base_uri": "https://localhost:8080/"
        },
        "id": "L0m9M2ZH1Epr",
        "outputId": "1f17dcca-fe78-49d9-b84e-03b9c8400de9"
      },
      "outputs": [
        {
          "name": "stdout",
          "output_type": "stream",
          "text": [
            "\t\t\tEASTERN POWER CORPORATION\n"
          ]
        }
      ],
      "source": [
        "print(\"\\t\\t\\tEASTERN POWER CORPORATION\")\n",
        "A=input(\"meter number:\")\n",
        "B=input(\"customer name:\")\n",
        "C=int(input(\"current units:\"))\n",
        "D=int(input(\"previous units:\"))\n",
        "Total=C-D\n",
        "Amount=Total*6\n",
        "print(\"Total units is\",Total)\n",
        "print(\"Bill amount is\",amount)"
      ]
    },
    {
      "cell_type": "code",
      "execution_count": null,
      "metadata": {
        "colab": {
          "base_uri": "https://localhost:8080/"
        },
        "id": "BrhWzhiCJCyY",
        "outputId": "d0093ee3-3dc2-4431-d640-c2e468a113e9"
      },
      "outputs": [
        {
          "name": "stdout",
          "output_type": "stream",
          "text": [
            "enter your name  Purnima \n"
          ]
        }
      ],
      "source": [
        "A=input(\"enter your name\")"
      ]
    },
    {
      "cell_type": "code",
      "execution_count": null,
      "metadata": {
        "colab": {
          "base_uri": "https://localhost:8080/"
        },
        "id": "7j26ztRTKdlV",
        "outputId": "4599aff4-b436-4edf-c3bf-b0998b17c5ba"
      },
      "outputs": [
        {
          "name": "stdout",
          "output_type": "stream",
          "text": [
            "htno23054012245\n"
          ]
        }
      ],
      "source": [
        "A=input(\"htno\")"
      ]
    },
    {
      "cell_type": "code",
      "execution_count": null,
      "metadata": {
        "colab": {
          "base_uri": "https://localhost:8080/"
        },
        "id": "M9UdJgINKm-t",
        "outputId": "57bbdc0b-4407-44a2-f751-15462cc3a7a1"
      },
      "outputs": [
        {
          "name": "stdout",
          "output_type": "stream",
          "text": [
            "street  Reddikastreet\n"
          ]
        }
      ],
      "source": [
        "A=input(\"street\")"
      ]
    },
    {
      "cell_type": "code",
      "execution_count": null,
      "metadata": {
        "colab": {
          "base_uri": "https://localhost:8080/"
        },
        "id": "eb-qxgjiKxGS",
        "outputId": "66ec01b9-d1a5-42d8-e3d2-cc4533def945"
      },
      "outputs": [
        {
          "name": "stdout",
          "output_type": "stream",
          "text": [
            "father name  Tirupathi reddi \n"
          ]
        }
      ],
      "source": [
        "A=input(\"father name\")"
      ]
    },
    {
      "cell_type": "code",
      "execution_count": null,
      "metadata": {
        "colab": {
          "base_uri": "https://localhost:8080/"
        },
        "id": "WAAVDKrULVh8",
        "outputId": "1408cdd8-f9f9-4d53-dd1f-ea6c399e79b6"
      },
      "outputs": [
        {
          "name": "stdout",
          "output_type": "stream",
          "text": [
            "enter first number1\n",
            "second number2\n",
            "my collage name in  1\n",
            "myy phone in    2\n"
          ]
        }
      ],
      "source": [
        "Fno=input(\"enter first number\")\n",
        "B=input(\"second number\")\n",
        "print(\"my collage name in \",Fno)\n",
        "print(\"myy phone in   \",B)"
      ]
    },
    {
      "cell_type": "code",
      "execution_count": null,
      "metadata": {
        "colab": {
          "base_uri": "https://localhost:8080/"
        },
        "id": "ZmybPevlNevm",
        "outputId": "bd51eff6-dcba-4914-ca96-ac4302f1e24c"
      },
      "outputs": [
        {
          "name": "stdout",
          "output_type": "stream",
          "text": [
            "my number is 8074376562\n",
            "my name is purnima\n",
            "my department name is AID\n",
            "my college name is kiet womens\n"
          ]
        }
      ],
      "source": [
        "A=(\"8074376562\")\n",
        "B=(\"purnima\")\n",
        "C=(\"AID\")\n",
        "D=(\"kiet womens\")\n",
        "print(\"my number is\", A)\n",
        "print(\"my name is\",B)\n",
        "print(\"my department name is\", C)\n",
        "print(\"my college name is\",D)"
      ]
    },
    {
      "cell_type": "code",
      "execution_count": null,
      "metadata": {
        "colab": {
          "base_uri": "https://localhost:8080/"
        },
        "id": "gYhflz0KbbYN",
        "outputId": "4c93e480-6768-4111-8e0d-b90cc6bfdfd5"
      },
      "outputs": [
        {
          "name": "stdout",
          "output_type": "stream",
          "text": [
            "kiet\n",
            "korangi\n",
            "kakinada\n",
            "east godavari \n",
            "\n",
            "ap\t\t533002\n"
          ]
        }
      ],
      "source": [
        "print(\"kiet\")\n",
        "print(\"korangi\")\n",
        "print(\"kakinada\\neast godavari \\n\\nap\\t\\t533002\")"
      ]
    },
    {
      "cell_type": "code",
      "execution_count": null,
      "metadata": {
        "colab": {
          "base_uri": "https://localhost:8080/"
        },
        "id": "kvPna3Fic2Sv",
        "outputId": "3fd55a73-db75-4ae5-af54-df4207a44c39"
      },
      "outputs": [
        {
          "name": "stdout",
          "output_type": "stream",
          "text": [
            "123456\n"
          ]
        }
      ],
      "source": [
        "A=123456\n",
        "print(A)"
      ]
    },
    {
      "cell_type": "code",
      "execution_count": null,
      "metadata": {
        "colab": {
          "base_uri": "https://localhost:8080/"
        },
        "id": "HNyGew4KtSgX",
        "outputId": "4d936286-b65e-43b2-df84-2e00b4dac075"
      },
      "outputs": [
        {
          "name": "stdout",
          "output_type": "stream",
          "text": [
            "  BIODATA  \n",
            "BEPALA.PURNIMA\n",
            "D/O: Tirupathi reddi\n",
            "mobile number:8074376562\n",
            "D.O.B:18-12-2005\n",
            "b.s.puram\n",
            "mandasa\n",
            "srikakulam\n",
            "hobbies:sleeping,watching movies\n"
          ]
        }
      ],
      "source": [
        "print(\"  BIODATA  \")\n",
        "print(\"BEPALA.PURNIMA\")\n",
        "print(\"D/O: Tirupathi reddi\")\n",
        "print(\"mobile number:8074376562\")\n",
        "print(\"D.O.B:18-12-2005\")\n",
        "print(\"b.s.puram\")\n",
        "print(\"mandasa\")\n",
        "print(\"srikakulam\")\n",
        "print(\"hobbies:sleeping,watching movies\")"
      ]
    },
    {
      "cell_type": "code",
      "execution_count": null,
      "metadata": {
        "colab": {
          "base_uri": "https://localhost:8080/"
        },
        "id": "HGwhJqJ7be0v",
        "outputId": "6c3312b4-3a45-4337-b33f-6a944dd18c0f"
      },
      "outputs": [
        {
          "name": "stdout",
          "output_type": "stream",
          "text": [
            "enter first number7\n",
            "enter second number1\n",
            "sum is 71\n"
          ]
        }
      ],
      "source": [
        "A=input(\"enter first number\")\n",
        "B=input(\"enter second number\")\n",
        "C=A+B\n",
        "print(\"sum is\",C)"
      ]
    },
    {
      "cell_type": "code",
      "execution_count": null,
      "metadata": {
        "colab": {
          "base_uri": "https://localhost:8080/"
        },
        "id": "MLnAfJFOhJTW",
        "outputId": "6727c2fe-d521-4c2a-b180-aacfd3e6025b"
      },
      "outputs": [
        {
          "name": "stdout",
          "output_type": "stream",
          "text": [
            "sum is 15\n",
            "diff is 5\n",
            "5\n",
            "2.0\n"
          ]
        }
      ],
      "source": [
        "r=10+5\n",
        "print(\"sum is\",r)\n",
        "r=10-5\n",
        "print(\"diff is\",r)\n",
        "10*5\n",
        "print(r)\n",
        "r=10/5\n",
        "print(r)"
      ]
    },
    {
      "cell_type": "code",
      "execution_count": null,
      "metadata": {
        "colab": {
          "base_uri": "https://localhost:8080/"
        },
        "id": "sxEpX_z7lyid",
        "outputId": "4394adb1-5f3b-4404-a183-deb0aa1b7eb1"
      },
      "outputs": [
        {
          "name": "stdout",
          "output_type": "stream",
          "text": [
            " BOARD OF seconday EDUCATION\n",
            "_______________________________\n",
            "\tMARKS MEMO\n",
            "roll number  :22025606203\n",
            "candidate name:bepala purnima\n",
            "father name   : Tirupathi reddi\n",
            "______________________________________________________\n",
            "|subject        |  secured marks.   |    result   | \n",
            "|first language |     90            |      p      | \n",
            "|second language|     85            |      p      |\n",
            "|third language |     90            |      p      |\n",
            "|mathematics    |     95            |      p      | \n",
            "|science        |     90            |      p      |\n",
            "|social studies |     90            |      p      | \n",
            "|_______________|___________________|_____________|___\n",
            "grand total:540\n",
            "result: first division \n"
          ]
        }
      ],
      "source": [
        "\n",
        "print(\" BOARD OF seconday EDUCATION\")\n",
        "print(\"_______________________________\")\n",
        "print(\"\\tMARKS MEMO\")\n",
        "print(\"roll number  :22025606203\")\n",
        "print(\"candidate name:bepala purnima\")\n",
        "print(\"father name   : Tirupathi reddi\")\n",
        "print(\"______________________________________________________\")\n",
        "print(\"|subject        |  secured marks.   |    result   | \")\n",
        "print(\"|first language |     90            |      p      | \")\n",
        "print(\"|second language|     85            |      p      |\")\n",
        "print(\"|third language |     90            |      p      |\")\n",
        "print(\"|mathematics    |     95            |      p      | \")\n",
        "print(\"|science        |     90            |      p      |\")\n",
        "print(\"|social studies |     90            |      p      | \")\n",
        "print(\"|_______________|___________________|_____________|___\")\n",
        "print(\"grand total:540\")\n",
        "print(\"result: first division \")"
      ]
    }
  ],
  "metadata": {
    "colab": {
      "provenance": [],
      "authorship_tag": "ABX9TyPw96PK+1tPAQFfG3V9WdDp",
      "include_colab_link": true
    },
    "kernelspec": {
      "display_name": "Python 3",
      "name": "python3"
    },
    "language_info": {
      "name": "python"
    }
  },
  "nbformat": 4,
  "nbformat_minor": 0
}