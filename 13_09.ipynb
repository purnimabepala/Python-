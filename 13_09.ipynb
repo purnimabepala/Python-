{
  "nbformat": 4,
  "nbformat_minor": 0,
  "metadata": {
    "colab": {
      "provenance": [],
      "authorship_tag": "ABX9TyNqHnnvX1SN02XnAVJGuvrL",
      "include_colab_link": true
    },
    "kernelspec": {
      "name": "python3",
      "display_name": "Python 3"
    },
    "language_info": {
      "name": "python"
    }
  },
  "cells": [
    {
      "cell_type": "markdown",
      "metadata": {
        "id": "view-in-github",
        "colab_type": "text"
      },
      "source": [
        "<a href=\"https://colab.research.google.com/github/purnimabepala/Python-/blob/main/13_09.ipynb\" target=\"_parent\"><img src=\"https://colab.research.google.com/assets/colab-badge.svg\" alt=\"Open In Colab\"/></a>"
      ]
    },
    {
      "cell_type": "code",
      "execution_count": null,
      "metadata": {
        "colab": {
          "base_uri": "https://localhost:8080/"
        },
        "id": "XcARZ35aRR8l",
        "outputId": "d65bba53-6a5b-44e4-b98c-f97e041853bb"
      },
      "outputs": [
        {
          "output_type": "stream",
          "name": "stdout",
          "text": [
            "5 x 2 = 10\n",
            "5 x 3 = 15\n",
            "5 x 5 = 25\n",
            "5 x 7 = 35\n"
          ]
        }
      ],
      "source": [
        "num = 5\n",
        "\n",
        "for i in range(1, 11):        # Loop from 1 to 1\n",
        "    if i > 1:\n",
        "        is_prime = True\n",
        "        for j in range(2, i):\n",
        "            if i % j == 0:\n",
        "                is_prime = False\n",
        "                break\n",
        "        if is_prime:\n",
        "            print(num, \"x\", i, \"=\", num * i)"
      ]
    },
    {
      "cell_type": "code",
      "source": [
        "n=5\n",
        "for i in range(1,11):\n",
        "  if i%2==0:\n",
        "    print(n,\"*\",i,\"=\",n*i)"
      ],
      "metadata": {
        "colab": {
          "base_uri": "https://localhost:8080/"
        },
        "id": "FsBw5pPfRbnY",
        "outputId": "d1f1c1c0-6694-4987-d832-8ccb22c0df26"
      },
      "execution_count": null,
      "outputs": [
        {
          "output_type": "stream",
          "name": "stdout",
          "text": [
            "5 * 2 = 10\n",
            "5 * 4 = 20\n",
            "5 * 6 = 30\n",
            "5 * 8 = 40\n",
            "5 * 10 = 50\n"
          ]
        }
      ]
    },
    {
      "cell_type": "code",
      "source": [
        "n=5\n",
        "for i in range(1,11):\n",
        "  if i%2!=0:\n",
        "    print(n,\"*\",i,\"=\",n*i)"
      ],
      "metadata": {
        "colab": {
          "base_uri": "https://localhost:8080/"
        },
        "id": "UDA-VMXaR4zC",
        "outputId": "f5b2e803-16bd-45c4-d9e5-1f3c309d19ae"
      },
      "execution_count": null,
      "outputs": [
        {
          "output_type": "stream",
          "name": "stdout",
          "text": [
            "5 * 1 = 5\n",
            "5 * 3 = 15\n",
            "5 * 5 = 25\n",
            "5 * 7 = 35\n",
            "5 * 9 = 45\n"
          ]
        }
      ]
    },
    {
      "cell_type": "code",
      "source": [
        "n = 5\n",
        "\n",
        "for i in range(n):\n",
        "    row = []\n",
        "    for j in range(n):\n",
        "        if i == 0 or i == n-1 or j == 0 or j == n-1:\n",
        "            row.append('*')\n",
        "        else:\n",
        "            row.append(' ')\n",
        "    print(''.join(row))"
      ],
      "metadata": {
        "colab": {
          "base_uri": "https://localhost:8080/"
        },
        "id": "G_Ro1ZpaTqMK",
        "outputId": "6be832de-f6a5-40f9-baa9-f019096e6b1b"
      },
      "execution_count": null,
      "outputs": [
        {
          "output_type": "stream",
          "name": "stdout",
          "text": [
            "*****\n",
            "*   *\n",
            "*   *\n",
            "*   *\n",
            "*****\n"
          ]
        }
      ]
    },
    {
      "cell_type": "code",
      "source": [
        "num = 12345\n",
        "rev = \"\"\n",
        "for i in str(num):\n",
        "  rev = i + rev\n",
        "print(int(rev))"
      ],
      "metadata": {
        "colab": {
          "base_uri": "https://localhost:8080/"
        },
        "id": "WcVecqanTtiA",
        "outputId": "618d8f3f-8a7e-47db-f1fb-453661a3ff7f"
      },
      "execution_count": null,
      "outputs": [
        {
          "output_type": "stream",
          "name": "stdout",
          "text": [
            "54321\n"
          ]
        }
      ]
    },
    {
      "cell_type": "code",
      "source": [
        "num=12345\n",
        "count=0\n",
        "for digit in str(num):\n",
        "  count+=1\n",
        "print(\"count of digits:\",count)"
      ],
      "metadata": {
        "colab": {
          "base_uri": "https://localhost:8080/"
        },
        "id": "JHsrUOwZUPmx",
        "outputId": "8dd11b76-5fec-4b3f-a9d7-20b0a4b8f57e"
      },
      "execution_count": null,
      "outputs": [
        {
          "output_type": "stream",
          "name": "stdout",
          "text": [
            "count of digits: 5\n"
          ]
        }
      ]
    }
  ]
}