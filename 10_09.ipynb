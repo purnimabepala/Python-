{
  "cells": [
    {
      "cell_type": "markdown",
      "metadata": {
        "id": "view-in-github",
        "colab_type": "text"
      },
      "source": [
        "<a href=\"https://colab.research.google.com/github/purnimabepala/Python-/blob/main/10_09.ipynb\" target=\"_parent\"><img src=\"https://colab.research.google.com/assets/colab-badge.svg\" alt=\"Open In Colab\"/></a>"
      ]
    },
    {
      "cell_type": "code",
      "execution_count": null,
      "metadata": {
        "colab": {
          "base_uri": "https://localhost:8080/"
        },
        "id": "J2sV2qmNIjjj",
        "outputId": "6546b7c9-33d8-47ae-bdf0-cf08ba729cde"
      },
      "outputs": [
        {
          "name": "stdout",
          "output_type": "stream",
          "text": [
            "5\n"
          ]
        }
      ],
      "source": [
        "def reverseArray(arr):\n",
        "    return arr[::-1]\n",
        "\n",
        "try:\n",
        "    # Read the integer n, stripping whitespace\n",
        "    n = int(input().strip())\n",
        "\n",
        "    # Read the array elements, splitting by space and converting to integers\n",
        "    arr_str = input().strip().split()\n",
        "    arr = list(map(int, arr_str))\n",
        "\n",
        "    # Reverse the array\n",
        "    res = reverseArray(arr)\n",
        "\n",
        "    # Print the reversed array elements separated by spaces\n",
        "    print(' '.join(map(str, res)))\n",
        "\n",
        "except ValueError as e:\n",
        "    print(f\"Error: {e}. Please ensure your input is in the correct format (an integer followed by a space-separated list of integers).\")\n",
        "except Exception as e:\n",
        "    print(f\"An unexpected error occurred: {e}\")"
      ]
    },
    {
      "cell_type": "code",
      "source": [],
      "metadata": {
        "id": "ALs8q41xjroM"
      },
      "execution_count": null,
      "outputs": []
    }
  ],
  "metadata": {
    "colab": {
      "provenance": [],
      "authorship_tag": "ABX9TyOvvFaLhZtpxAksc/xBADaT",
      "include_colab_link": true
    },
    "kernelspec": {
      "display_name": "Python 3",
      "name": "python3"
    },
    "language_info": {
      "name": "python"
    }
  },
  "nbformat": 4,
  "nbformat_minor": 0
}