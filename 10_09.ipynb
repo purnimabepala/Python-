{
  "nbformat": 4,
  "nbformat_minor": 0,
  "metadata": {
    "colab": {
      "provenance": [],
      "authorship_tag": "ABX9TyMzJbhlhzlmB8/ZBnyjDIHl",
      "include_colab_link": true
    },
    "kernelspec": {
      "name": "python3",
      "display_name": "Python 3"
    },
    "language_info": {
      "name": "python"
    }
  },
  "cells": [
    {
      "cell_type": "markdown",
      "metadata": {
        "id": "view-in-github",
        "colab_type": "text"
      },
      "source": [
        "<a href=\"https://colab.research.google.com/github/purnimabepala/Python-/blob/main/10_09.ipynb\" target=\"_parent\"><img src=\"https://colab.research.google.com/assets/colab-badge.svg\" alt=\"Open In Colab\"/></a>"
      ]
    },
    {
      "cell_type": "code",
      "execution_count": 3,
      "metadata": {
        "colab": {
          "base_uri": "https://localhost:8080/"
        },
        "id": "nLxY6oraZRui",
        "outputId": "29b514d3-d2f4-4932-b6db-68cc6005d6a2"
      },
      "outputs": [
        {
          "output_type": "stream",
          "name": "stdout",
          "text": [
            "5\n",
            "    H    \n",
            "   HHH   \n",
            "  HHHHH  \n",
            " HHHHHHH \n",
            "HHHHHHHHH\n",
            "  HHHHH               HHHHH             \n",
            "  HHHHH               HHHHH             \n",
            "  HHHHH               HHHHH             \n",
            "  HHHHH               HHHHH             \n",
            "  HHHHH               HHHHH             \n",
            "  HHHHH               HHHHH             \n",
            "  HHHHHHHHHHHHHHHHHHHHHHHHH   \n",
            "  HHHHHHHHHHHHHHHHHHHHHHHHH   \n",
            "  HHHHHHHHHHHHHHHHHHHHHHHHH   \n",
            "  HHHHH               HHHHH             \n",
            "  HHHHH               HHHHH             \n",
            "  HHHHH               HHHHH             \n",
            "  HHHHH               HHHHH             \n",
            "  HHHHH               HHHHH             \n",
            "  HHHHH               HHHHH             \n",
            "                    HHHHHHHHH \n",
            "                     HHHHHHH  \n",
            "                      HHHHH   \n",
            "                       HHH    \n",
            "                        H     \n"
          ]
        }
      ],
      "source": [
        "thickness = int(input())  # This must be an odd number\n",
        "c = 'H'\n",
        "\n",
        "# Top Cone\n",
        "for i in range(thickness):\n",
        "    print((c * i).rjust(thickness - 1) + c + (c * i).ljust(thickness - 1))\n",
        "\n",
        "# Top Pillars\n",
        "for i in range(thickness + 1):\n",
        "    print((c * thickness).center(thickness * 2) + (c * thickness).center(thickness * 6))\n",
        "\n",
        "# Middle Belt\n",
        "for i in range((thickness + 1) // 2):\n",
        "    print((c * thickness * 5).center(thickness * 6))\n",
        "\n",
        "# Bottom Pillars\n",
        "for i in range(thickness + 1):\n",
        "    print((c * thickness).center(thickness * 2) + (c * thickness).center(thickness * 6))\n",
        "\n",
        "# Bottom Cone\n",
        "for i in range(thickness):\n",
        "    print(((c * (thickness - i - 1)).rjust(thickness) + c + (c * (thickness - i - 1)).ljust(thickness)).rjust(thickness * 6))"
      ]
    }
  ]
}