{
  "nbformat": 4,
  "nbformat_minor": 0,
  "metadata": {
    "colab": {
      "provenance": [],
      "authorship_tag": "ABX9TyPrCurKiqAtnfyFDlLiKWHO",
      "include_colab_link": true
    },
    "kernelspec": {
      "name": "python3",
      "display_name": "Python 3"
    },
    "language_info": {
      "name": "python"
    }
  },
  "cells": [
    {
      "cell_type": "markdown",
      "metadata": {
        "id": "view-in-github",
        "colab_type": "text"
      },
      "source": [
        "<a href=\"https://colab.research.google.com/github/purnimabepala/Python-/blob/main/Untitled.ipynb\" target=\"_parent\"><img src=\"https://colab.research.google.com/assets/colab-badge.svg\" alt=\"Open In Colab\"/></a>"
      ]
    },
    {
      "cell_type": "code",
      "source": [
        "\n",
        "def compareTriplets(a, b):\n",
        "    alice = 0\n",
        "    bob = 0\n",
        "\n",
        "    for i in range(3):\n",
        "        if a[i] > b[i]:\n",
        "            alice += 1\n",
        "        elif a[i] < b[i]:\n",
        "            bob += 1\n",
        "    return [alice, bob]\n",
        "if __name__ == '__main__':\n",
        "    a = list(map(int, input().split()))\n",
        "    b = list(map(int, input().split()))\n",
        "\n",
        "    result = compareTriplets(a, b)\n",
        "    print(result[0], result[1])"
      ],
      "metadata": {
        "colab": {
          "base_uri": "https://localhost:8080/"
        },
        "id": "r21HW-q3E7wO",
        "outputId": "81de557f-7017-40a5-c117-bd4d020b5ed9"
      },
      "execution_count": 3,
      "outputs": [
        {
          "output_type": "stream",
          "name": "stdout",
          "text": [
            "4 5 6 \n",
            "34 5 8\n",
            "0 2\n"
          ]
        }
      ]
    }
  ]
}